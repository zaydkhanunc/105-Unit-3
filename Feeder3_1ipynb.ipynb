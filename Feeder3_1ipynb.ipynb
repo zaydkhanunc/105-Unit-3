{
  "nbformat": 4,
  "nbformat_minor": 0,
  "metadata": {
    "colab": {
      "provenance": [],
      "toc_visible": true
    },
    "kernelspec": {
      "name": "python3",
      "display_name": "Python 3"
    },
    "language_info": {
      "name": "python"
    }
  },
  "cells": [
    {
      "cell_type": "markdown",
      "source": [
        "# Creating a New Data Subset on County Public Health"
      ],
      "metadata": {
        "id": "mgsFlDiFnYMU"
      }
    },
    {
      "cell_type": "markdown",
      "source": [
        "## Instructions Overview"
      ],
      "metadata": {
        "id": "hmgKG5N0nkBq"
      }
    },
    {
      "cell_type": "markdown",
      "source": [
        "The following is a detailed guideline for creating a new data subset using the preexisting county Public Health dataset that is available for free on the Web\n",
        "\n",
        "The guide is made for those who have little experience with Python3, and Google Colabs.\n",
        "\n",
        "**Basic Steps**\n",
        "\n",
        "\n",
        "1.   Mount the your drive to the Notebook, giving the notebook access to your drive\n",
        "2.   Import the necessary python packages\n",
        "1.   Create a dataframe by reading in a csv file\n",
        "2.   Create a new data subset by filtering only the relevant information\n",
        "1.   Export your new subset as .csv file\n",
        "\n",
        "\n",
        "\n",
        "\n",
        "\n",
        "\n",
        "\n"
      ],
      "metadata": {
        "id": "tsWn4g8Ins0I"
      }
    },
    {
      "cell_type": "markdown",
      "source": [
        "## Getting Started"
      ],
      "metadata": {
        "id": "o3Fr7GthpPmr"
      }
    },
    {
      "cell_type": "markdown",
      "source": [
        "The first thing you are going to is upload your relevant data .csv file into your Google Drive. For convenience sake, it would be simplest if you can just upload it straight into your drive and not into any folder (this ensures that the step after this runs smoothly).  \n",
        "\n",
        "After that you want to execute the following code, to mount your drive to this notebook. Mounting your drive is the easiest way to ensure access to your data.\n",
        "\n",
        "Use the following code to mount your drive:\n"
      ],
      "metadata": {
        "id": "LEjnP25i-56d"
      }
    },
    {
      "cell_type": "code",
      "source": [
        "from google.colab import drive\n",
        "drive.mount('/content/gdrive')"
      ],
      "metadata": {
        "colab": {
          "base_uri": "https://localhost:8080/"
        },
        "id": "QTGQXqlipBbi",
        "outputId": "c237dbe4-fbcd-4435-dcbd-abf3a27a7981"
      },
      "execution_count": null,
      "outputs": [
        {
          "output_type": "stream",
          "name": "stdout",
          "text": [
            "Mounted at /content/gdrive\n"
          ]
        }
      ]
    },
    {
      "cell_type": "markdown",
      "source": [
        "Now that we have mounted the code we are going to import the necessary python packages. Essentially, these just provide additional functionality that is not present in base python."
      ],
      "metadata": {
        "id": "VarUpVDmpZ3z"
      }
    },
    {
      "cell_type": "code",
      "source": [
        "import numpy as np\n",
        "import pandas as pd"
      ],
      "metadata": {
        "id": "8CyUJeL-pTUG"
      },
      "execution_count": 7,
      "outputs": []
    },
    {
      "cell_type": "markdown",
      "source": [
        "For the purposes of abstraction we imported numpy as np, and pandas as pd. This just makes referring to them easier in the future."
      ],
      "metadata": {
        "id": "rkn2aHi0_K63"
      }
    },
    {
      "cell_type": "markdown",
      "source": [
        "## Creating a dataframe"
      ],
      "metadata": {
        "id": "QOe5rpsc_WOT"
      }
    },
    {
      "cell_type": "markdown",
      "source": [
        "Now we are going to create a new dataframe. To accomplish this we are going to use the pd.read_csv()\n",
        "\n",
        "We create a new dataframe called df, and make it equal to the pd.read_csv() fucntion. In the empty parentheses we want to identify the csv file with quotation marks.\n",
        "\n",
        "The following line of code executes this.\n"
      ],
      "metadata": {
        "id": "P2UlxbzT_iMI"
      }
    },
    {
      "cell_type": "code",
      "source": [
        "df = pd.read_csv('gdrive/My Drive/Colabs/CountyHealthData_2014-2015.csv')"
      ],
      "metadata": {
        "id": "C526E2tSpnhE"
      },
      "execution_count": 8,
      "outputs": []
    },
    {
      "cell_type": "markdown",
      "source": [
        "Now just to test what a sample row of the data frame looks like I can use the .sample() function, as executed below."
      ],
      "metadata": {
        "id": "W2MAo5e6qBHR"
      }
    },
    {
      "cell_type": "code",
      "source": [
        "df.sample()"
      ],
      "metadata": {
        "id": "UOTvuxgcp_7F",
        "colab": {
          "base_uri": "https://localhost:8080/",
          "height": 234
        },
        "outputId": "96c87bf3-dd5d-43da-9083-6aeb50ed732a"
      },
      "execution_count": 17,
      "outputs": [
        {
          "output_type": "execute_result",
          "data": {
            "text/plain": [
              "     State   Region            Division        County   FIPS  GEOID  \\\n",
              "2524    MI  Midwest  East North Central  Mason County  26105  26105   \n",
              "\n",
              "     SMS Region      Year  Premature death  Poor or fair health  ...  \\\n",
              "2524   Region 7  1/1/2015           7857.0                0.209  ...   \n",
              "\n",
              "      Drug poisoning deaths  Uninsured adults  Uninsured children  \\\n",
              "2524                   8.46             0.182               0.048   \n",
              "\n",
              "      Health care costs  Could not see doctor due to cost  \\\n",
              "2524             8299.0                             0.143   \n",
              "\n",
              "      Other primary care providers  Median household income  \\\n",
              "2524                          52.0                    40438   \n",
              "\n",
              "      Children eligible for free lunch  Homicide rate  \\\n",
              "2524                               NaN            NaN   \n",
              "\n",
              "      Inadequate social support  \n",
              "2524                        NaN  \n",
              "\n",
              "[1 rows x 64 columns]"
            ],
            "text/html": [
              "\n",
              "  <div id=\"df-224be57a-de82-46d6-bc36-9ed5d86d85ee\" class=\"colab-df-container\">\n",
              "    <div>\n",
              "<style scoped>\n",
              "    .dataframe tbody tr th:only-of-type {\n",
              "        vertical-align: middle;\n",
              "    }\n",
              "\n",
              "    .dataframe tbody tr th {\n",
              "        vertical-align: top;\n",
              "    }\n",
              "\n",
              "    .dataframe thead th {\n",
              "        text-align: right;\n",
              "    }\n",
              "</style>\n",
              "<table border=\"1\" class=\"dataframe\">\n",
              "  <thead>\n",
              "    <tr style=\"text-align: right;\">\n",
              "      <th></th>\n",
              "      <th>State</th>\n",
              "      <th>Region</th>\n",
              "      <th>Division</th>\n",
              "      <th>County</th>\n",
              "      <th>FIPS</th>\n",
              "      <th>GEOID</th>\n",
              "      <th>SMS Region</th>\n",
              "      <th>Year</th>\n",
              "      <th>Premature death</th>\n",
              "      <th>Poor or fair health</th>\n",
              "      <th>...</th>\n",
              "      <th>Drug poisoning deaths</th>\n",
              "      <th>Uninsured adults</th>\n",
              "      <th>Uninsured children</th>\n",
              "      <th>Health care costs</th>\n",
              "      <th>Could not see doctor due to cost</th>\n",
              "      <th>Other primary care providers</th>\n",
              "      <th>Median household income</th>\n",
              "      <th>Children eligible for free lunch</th>\n",
              "      <th>Homicide rate</th>\n",
              "      <th>Inadequate social support</th>\n",
              "    </tr>\n",
              "  </thead>\n",
              "  <tbody>\n",
              "    <tr>\n",
              "      <th>2524</th>\n",
              "      <td>MI</td>\n",
              "      <td>Midwest</td>\n",
              "      <td>East North Central</td>\n",
              "      <td>Mason County</td>\n",
              "      <td>26105</td>\n",
              "      <td>26105</td>\n",
              "      <td>Region 7</td>\n",
              "      <td>1/1/2015</td>\n",
              "      <td>7857.0</td>\n",
              "      <td>0.209</td>\n",
              "      <td>...</td>\n",
              "      <td>8.46</td>\n",
              "      <td>0.182</td>\n",
              "      <td>0.048</td>\n",
              "      <td>8299.0</td>\n",
              "      <td>0.143</td>\n",
              "      <td>52.0</td>\n",
              "      <td>40438</td>\n",
              "      <td>NaN</td>\n",
              "      <td>NaN</td>\n",
              "      <td>NaN</td>\n",
              "    </tr>\n",
              "  </tbody>\n",
              "</table>\n",
              "<p>1 rows × 64 columns</p>\n",
              "</div>\n",
              "    <div class=\"colab-df-buttons\">\n",
              "\n",
              "  <div class=\"colab-df-container\">\n",
              "    <button class=\"colab-df-convert\" onclick=\"convertToInteractive('df-224be57a-de82-46d6-bc36-9ed5d86d85ee')\"\n",
              "            title=\"Convert this dataframe to an interactive table.\"\n",
              "            style=\"display:none;\">\n",
              "\n",
              "  <svg xmlns=\"http://www.w3.org/2000/svg\" height=\"24px\" viewBox=\"0 -960 960 960\">\n",
              "    <path d=\"M120-120v-720h720v720H120Zm60-500h600v-160H180v160Zm220 220h160v-160H400v160Zm0 220h160v-160H400v160ZM180-400h160v-160H180v160Zm440 0h160v-160H620v160ZM180-180h160v-160H180v160Zm440 0h160v-160H620v160Z\"/>\n",
              "  </svg>\n",
              "    </button>\n",
              "\n",
              "  <style>\n",
              "    .colab-df-container {\n",
              "      display:flex;\n",
              "      gap: 12px;\n",
              "    }\n",
              "\n",
              "    .colab-df-convert {\n",
              "      background-color: #E8F0FE;\n",
              "      border: none;\n",
              "      border-radius: 50%;\n",
              "      cursor: pointer;\n",
              "      display: none;\n",
              "      fill: #1967D2;\n",
              "      height: 32px;\n",
              "      padding: 0 0 0 0;\n",
              "      width: 32px;\n",
              "    }\n",
              "\n",
              "    .colab-df-convert:hover {\n",
              "      background-color: #E2EBFA;\n",
              "      box-shadow: 0px 1px 2px rgba(60, 64, 67, 0.3), 0px 1px 3px 1px rgba(60, 64, 67, 0.15);\n",
              "      fill: #174EA6;\n",
              "    }\n",
              "\n",
              "    .colab-df-buttons div {\n",
              "      margin-bottom: 4px;\n",
              "    }\n",
              "\n",
              "    [theme=dark] .colab-df-convert {\n",
              "      background-color: #3B4455;\n",
              "      fill: #D2E3FC;\n",
              "    }\n",
              "\n",
              "    [theme=dark] .colab-df-convert:hover {\n",
              "      background-color: #434B5C;\n",
              "      box-shadow: 0px 1px 3px 1px rgba(0, 0, 0, 0.15);\n",
              "      filter: drop-shadow(0px 1px 2px rgba(0, 0, 0, 0.3));\n",
              "      fill: #FFFFFF;\n",
              "    }\n",
              "  </style>\n",
              "\n",
              "    <script>\n",
              "      const buttonEl =\n",
              "        document.querySelector('#df-224be57a-de82-46d6-bc36-9ed5d86d85ee button.colab-df-convert');\n",
              "      buttonEl.style.display =\n",
              "        google.colab.kernel.accessAllowed ? 'block' : 'none';\n",
              "\n",
              "      async function convertToInteractive(key) {\n",
              "        const element = document.querySelector('#df-224be57a-de82-46d6-bc36-9ed5d86d85ee');\n",
              "        const dataTable =\n",
              "          await google.colab.kernel.invokeFunction('convertToInteractive',\n",
              "                                                    [key], {});\n",
              "        if (!dataTable) return;\n",
              "\n",
              "        const docLinkHtml = 'Like what you see? Visit the ' +\n",
              "          '<a target=\"_blank\" href=https://colab.research.google.com/notebooks/data_table.ipynb>data table notebook</a>'\n",
              "          + ' to learn more about interactive tables.';\n",
              "        element.innerHTML = '';\n",
              "        dataTable['output_type'] = 'display_data';\n",
              "        await google.colab.output.renderOutput(dataTable, element);\n",
              "        const docLink = document.createElement('div');\n",
              "        docLink.innerHTML = docLinkHtml;\n",
              "        element.appendChild(docLink);\n",
              "      }\n",
              "    </script>\n",
              "  </div>\n",
              "\n",
              "\n",
              "    </div>\n",
              "  </div>\n"
            ],
            "application/vnd.google.colaboratory.intrinsic+json": {
              "type": "dataframe"
            }
          },
          "metadata": {},
          "execution_count": 17
        }
      ]
    },
    {
      "cell_type": "markdown",
      "source": [
        "## Creating a Subset of our Data"
      ],
      "metadata": {
        "id": "dp6HCVbBDBND"
      }
    },
    {
      "cell_type": "markdown",
      "source": [
        "Now we could just keep the following dataframe, as the same but as seen when we took out a sample row of the dataframe, there is alot of excess and irrelevant data.\n",
        "\n",
        "Our objective is to create a smaller data subset that focuses on how Median Household income and unemployment impact general health.\n",
        "\n",
        "We can organize this into 3 main areas:\n",
        "\n",
        "*   Time and location\n",
        "*   Health indicators\n",
        "*   Employment/income\n",
        "\n",
        "\n",
        "Here are the following columns to include:\n",
        "\n",
        "For time and location context, you would include:\n",
        "\n",
        "\n",
        "*   County\n",
        "*   State\n",
        "*   Year\n",
        "\n",
        "\n",
        "For unemployment/income, you would include:\n",
        "\n",
        "*   Unemployment\n",
        "*   Median Household Income\n",
        "\n",
        "\n",
        "For Health Indicators, one would include:\n",
        "\n",
        "\n",
        "*   Adult Obesity\n",
        "*   Poor Mental Health Days\n",
        "*   Premature Deaths\n",
        "\n",
        "\n"
      ],
      "metadata": {
        "id": "G2urqORJqFAm"
      }
    },
    {
      "cell_type": "markdown",
      "source": [
        "## Filtering Our Data to create the subset:"
      ],
      "metadata": {
        "id": "clsT6-nFDTq4"
      }
    },
    {
      "cell_type": "markdown",
      "source": [
        "The first we will do is create a variable called relevant_columns, that will include all the following columns (are their information)  listed above in the “creating a subset of our Data”.\n",
        "\n",
        "The following code will execute the aforementioned:\n"
      ],
      "metadata": {
        "id": "b68guwPuDYzN"
      }
    },
    {
      "cell_type": "code",
      "source": [
        "relevant_columns = [\n",
        "    'State', 'County', 'Year',\n",
        "    'Unemployment', 'Median household income',\n",
        "    'Adult obesity', 'Poor mental health days', 'Premature death'\n",
        "]"
      ],
      "metadata": {
        "id": "25lsh0UN2Chx"
      },
      "execution_count": 2,
      "outputs": []
    },
    {
      "cell_type": "markdown",
      "source": [
        "After that we will create our new data subset, and call that subset_1, and we will make that equal to all the information in the relevant columns.\n",
        "\n",
        "The following code will execute this.\n"
      ],
      "metadata": {
        "id": "KFyOkhmhDjPP"
      }
    },
    {
      "cell_type": "code",
      "source": [
        "subset_1 = df[relevant_columns].dropna()\n"
      ],
      "metadata": {
        "id": "yvCi4ku42LRa"
      },
      "execution_count": 12,
      "outputs": []
    },
    {
      "cell_type": "markdown",
      "source": [
        "As you can see there is .dropna() function that is added at the end. This is to remove rows with missing values.\n"
      ],
      "metadata": {
        "id": "Jdlr1Z1aDmiV"
      }
    },
    {
      "cell_type": "markdown",
      "source": [
        "## Exporting the CSV file"
      ],
      "metadata": {
        "id": "09REKJj5D_M4"
      }
    },
    {
      "cell_type": "markdown",
      "source": [
        "Now that our data has been filtered, we can export it as a .csv file.\n",
        "\n",
        "To export it we will use the .to_csv() function, and we have to indicate which dataframe we will be exporting, subset_1 before the function. In the parentheses we then have to mention, what we want to name the file.\n",
        "\n",
        "Lastly, we set the index= False to ensure that the numbered row indices aren’t included by default.\n",
        "\n",
        "Here's the code to execute this section:\n"
      ],
      "metadata": {
        "id": "vH3laCqREENc"
      }
    },
    {
      "cell_type": "code",
      "source": [
        "subset_1.to_csv(\"County_Data_Unemployment_and_Income.csv\", index = False)"
      ],
      "metadata": {
        "id": "k3b6Eom99Mnc"
      },
      "execution_count": 15,
      "outputs": []
    },
    {
      "cell_type": "markdown",
      "source": [
        "Then we will just call the .head() function to see if our subset contains the relevant data we desire.\n",
        "The command to execute this:\n"
      ],
      "metadata": {
        "id": "ZMUydodQEIy3"
      }
    },
    {
      "cell_type": "code",
      "source": [
        "subset_1.head()"
      ],
      "metadata": {
        "colab": {
          "base_uri": "https://localhost:8080/",
          "height": 241
        },
        "id": "4rqcTnmC9yKd",
        "outputId": "a14d7738-9c2a-4c61-ef0a-ef6ca9755c7f"
      },
      "execution_count": 19,
      "outputs": [
        {
          "output_type": "execute_result",
          "data": {
            "text/plain": [
              "  State                  County      Year  Unemployment  \\\n",
              "2    AK       Anchorage Borough  1/1/2014         0.054   \n",
              "3    AK       Anchorage Borough  1/1/2015         0.050   \n",
              "4    AK      Bethel Census Area  1/1/2014         0.152   \n",
              "5    AK      Bethel Census Area  1/1/2015         0.154   \n",
              "6    AK  Dillingham Census Area  1/1/2014         0.096   \n",
              "\n",
              "   Median household income  Adult obesity  Poor mental health days  \\\n",
              "2                    71094          0.257                      3.0   \n",
              "3                    76362          0.268                      3.0   \n",
              "4                    41722          0.315                      2.6   \n",
              "5                    42876          0.324                      2.6   \n",
              "6                    47498          0.318                      2.3   \n",
              "\n",
              "   Premature death  \n",
              "2           6827.0  \n",
              "3           6856.0  \n",
              "4          13345.0  \n",
              "5          12864.0  \n",
              "6           9699.0  "
            ],
            "text/html": [
              "\n",
              "  <div id=\"df-c23cf8f8-16a5-43ce-acfe-46de8d891ced\" class=\"colab-df-container\">\n",
              "    <div>\n",
              "<style scoped>\n",
              "    .dataframe tbody tr th:only-of-type {\n",
              "        vertical-align: middle;\n",
              "    }\n",
              "\n",
              "    .dataframe tbody tr th {\n",
              "        vertical-align: top;\n",
              "    }\n",
              "\n",
              "    .dataframe thead th {\n",
              "        text-align: right;\n",
              "    }\n",
              "</style>\n",
              "<table border=\"1\" class=\"dataframe\">\n",
              "  <thead>\n",
              "    <tr style=\"text-align: right;\">\n",
              "      <th></th>\n",
              "      <th>State</th>\n",
              "      <th>County</th>\n",
              "      <th>Year</th>\n",
              "      <th>Unemployment</th>\n",
              "      <th>Median household income</th>\n",
              "      <th>Adult obesity</th>\n",
              "      <th>Poor mental health days</th>\n",
              "      <th>Premature death</th>\n",
              "    </tr>\n",
              "  </thead>\n",
              "  <tbody>\n",
              "    <tr>\n",
              "      <th>2</th>\n",
              "      <td>AK</td>\n",
              "      <td>Anchorage Borough</td>\n",
              "      <td>1/1/2014</td>\n",
              "      <td>0.054</td>\n",
              "      <td>71094</td>\n",
              "      <td>0.257</td>\n",
              "      <td>3.0</td>\n",
              "      <td>6827.0</td>\n",
              "    </tr>\n",
              "    <tr>\n",
              "      <th>3</th>\n",
              "      <td>AK</td>\n",
              "      <td>Anchorage Borough</td>\n",
              "      <td>1/1/2015</td>\n",
              "      <td>0.050</td>\n",
              "      <td>76362</td>\n",
              "      <td>0.268</td>\n",
              "      <td>3.0</td>\n",
              "      <td>6856.0</td>\n",
              "    </tr>\n",
              "    <tr>\n",
              "      <th>4</th>\n",
              "      <td>AK</td>\n",
              "      <td>Bethel Census Area</td>\n",
              "      <td>1/1/2014</td>\n",
              "      <td>0.152</td>\n",
              "      <td>41722</td>\n",
              "      <td>0.315</td>\n",
              "      <td>2.6</td>\n",
              "      <td>13345.0</td>\n",
              "    </tr>\n",
              "    <tr>\n",
              "      <th>5</th>\n",
              "      <td>AK</td>\n",
              "      <td>Bethel Census Area</td>\n",
              "      <td>1/1/2015</td>\n",
              "      <td>0.154</td>\n",
              "      <td>42876</td>\n",
              "      <td>0.324</td>\n",
              "      <td>2.6</td>\n",
              "      <td>12864.0</td>\n",
              "    </tr>\n",
              "    <tr>\n",
              "      <th>6</th>\n",
              "      <td>AK</td>\n",
              "      <td>Dillingham Census Area</td>\n",
              "      <td>1/1/2014</td>\n",
              "      <td>0.096</td>\n",
              "      <td>47498</td>\n",
              "      <td>0.318</td>\n",
              "      <td>2.3</td>\n",
              "      <td>9699.0</td>\n",
              "    </tr>\n",
              "  </tbody>\n",
              "</table>\n",
              "</div>\n",
              "    <div class=\"colab-df-buttons\">\n",
              "\n",
              "  <div class=\"colab-df-container\">\n",
              "    <button class=\"colab-df-convert\" onclick=\"convertToInteractive('df-c23cf8f8-16a5-43ce-acfe-46de8d891ced')\"\n",
              "            title=\"Convert this dataframe to an interactive table.\"\n",
              "            style=\"display:none;\">\n",
              "\n",
              "  <svg xmlns=\"http://www.w3.org/2000/svg\" height=\"24px\" viewBox=\"0 -960 960 960\">\n",
              "    <path d=\"M120-120v-720h720v720H120Zm60-500h600v-160H180v160Zm220 220h160v-160H400v160Zm0 220h160v-160H400v160ZM180-400h160v-160H180v160Zm440 0h160v-160H620v160ZM180-180h160v-160H180v160Zm440 0h160v-160H620v160Z\"/>\n",
              "  </svg>\n",
              "    </button>\n",
              "\n",
              "  <style>\n",
              "    .colab-df-container {\n",
              "      display:flex;\n",
              "      gap: 12px;\n",
              "    }\n",
              "\n",
              "    .colab-df-convert {\n",
              "      background-color: #E8F0FE;\n",
              "      border: none;\n",
              "      border-radius: 50%;\n",
              "      cursor: pointer;\n",
              "      display: none;\n",
              "      fill: #1967D2;\n",
              "      height: 32px;\n",
              "      padding: 0 0 0 0;\n",
              "      width: 32px;\n",
              "    }\n",
              "\n",
              "    .colab-df-convert:hover {\n",
              "      background-color: #E2EBFA;\n",
              "      box-shadow: 0px 1px 2px rgba(60, 64, 67, 0.3), 0px 1px 3px 1px rgba(60, 64, 67, 0.15);\n",
              "      fill: #174EA6;\n",
              "    }\n",
              "\n",
              "    .colab-df-buttons div {\n",
              "      margin-bottom: 4px;\n",
              "    }\n",
              "\n",
              "    [theme=dark] .colab-df-convert {\n",
              "      background-color: #3B4455;\n",
              "      fill: #D2E3FC;\n",
              "    }\n",
              "\n",
              "    [theme=dark] .colab-df-convert:hover {\n",
              "      background-color: #434B5C;\n",
              "      box-shadow: 0px 1px 3px 1px rgba(0, 0, 0, 0.15);\n",
              "      filter: drop-shadow(0px 1px 2px rgba(0, 0, 0, 0.3));\n",
              "      fill: #FFFFFF;\n",
              "    }\n",
              "  </style>\n",
              "\n",
              "    <script>\n",
              "      const buttonEl =\n",
              "        document.querySelector('#df-c23cf8f8-16a5-43ce-acfe-46de8d891ced button.colab-df-convert');\n",
              "      buttonEl.style.display =\n",
              "        google.colab.kernel.accessAllowed ? 'block' : 'none';\n",
              "\n",
              "      async function convertToInteractive(key) {\n",
              "        const element = document.querySelector('#df-c23cf8f8-16a5-43ce-acfe-46de8d891ced');\n",
              "        const dataTable =\n",
              "          await google.colab.kernel.invokeFunction('convertToInteractive',\n",
              "                                                    [key], {});\n",
              "        if (!dataTable) return;\n",
              "\n",
              "        const docLinkHtml = 'Like what you see? Visit the ' +\n",
              "          '<a target=\"_blank\" href=https://colab.research.google.com/notebooks/data_table.ipynb>data table notebook</a>'\n",
              "          + ' to learn more about interactive tables.';\n",
              "        element.innerHTML = '';\n",
              "        dataTable['output_type'] = 'display_data';\n",
              "        await google.colab.output.renderOutput(dataTable, element);\n",
              "        const docLink = document.createElement('div');\n",
              "        docLink.innerHTML = docLinkHtml;\n",
              "        element.appendChild(docLink);\n",
              "      }\n",
              "    </script>\n",
              "  </div>\n",
              "\n",
              "\n",
              "<div id=\"df-8c004a35-bd2c-4902-8242-549ac643d50a\">\n",
              "  <button class=\"colab-df-quickchart\" onclick=\"quickchart('df-8c004a35-bd2c-4902-8242-549ac643d50a')\"\n",
              "            title=\"Suggest charts\"\n",
              "            style=\"display:none;\">\n",
              "\n",
              "<svg xmlns=\"http://www.w3.org/2000/svg\" height=\"24px\"viewBox=\"0 0 24 24\"\n",
              "     width=\"24px\">\n",
              "    <g>\n",
              "        <path d=\"M19 3H5c-1.1 0-2 .9-2 2v14c0 1.1.9 2 2 2h14c1.1 0 2-.9 2-2V5c0-1.1-.9-2-2-2zM9 17H7v-7h2v7zm4 0h-2V7h2v10zm4 0h-2v-4h2v4z\"/>\n",
              "    </g>\n",
              "</svg>\n",
              "  </button>\n",
              "\n",
              "<style>\n",
              "  .colab-df-quickchart {\n",
              "      --bg-color: #E8F0FE;\n",
              "      --fill-color: #1967D2;\n",
              "      --hover-bg-color: #E2EBFA;\n",
              "      --hover-fill-color: #174EA6;\n",
              "      --disabled-fill-color: #AAA;\n",
              "      --disabled-bg-color: #DDD;\n",
              "  }\n",
              "\n",
              "  [theme=dark] .colab-df-quickchart {\n",
              "      --bg-color: #3B4455;\n",
              "      --fill-color: #D2E3FC;\n",
              "      --hover-bg-color: #434B5C;\n",
              "      --hover-fill-color: #FFFFFF;\n",
              "      --disabled-bg-color: #3B4455;\n",
              "      --disabled-fill-color: #666;\n",
              "  }\n",
              "\n",
              "  .colab-df-quickchart {\n",
              "    background-color: var(--bg-color);\n",
              "    border: none;\n",
              "    border-radius: 50%;\n",
              "    cursor: pointer;\n",
              "    display: none;\n",
              "    fill: var(--fill-color);\n",
              "    height: 32px;\n",
              "    padding: 0;\n",
              "    width: 32px;\n",
              "  }\n",
              "\n",
              "  .colab-df-quickchart:hover {\n",
              "    background-color: var(--hover-bg-color);\n",
              "    box-shadow: 0 1px 2px rgba(60, 64, 67, 0.3), 0 1px 3px 1px rgba(60, 64, 67, 0.15);\n",
              "    fill: var(--button-hover-fill-color);\n",
              "  }\n",
              "\n",
              "  .colab-df-quickchart-complete:disabled,\n",
              "  .colab-df-quickchart-complete:disabled:hover {\n",
              "    background-color: var(--disabled-bg-color);\n",
              "    fill: var(--disabled-fill-color);\n",
              "    box-shadow: none;\n",
              "  }\n",
              "\n",
              "  .colab-df-spinner {\n",
              "    border: 2px solid var(--fill-color);\n",
              "    border-color: transparent;\n",
              "    border-bottom-color: var(--fill-color);\n",
              "    animation:\n",
              "      spin 1s steps(1) infinite;\n",
              "  }\n",
              "\n",
              "  @keyframes spin {\n",
              "    0% {\n",
              "      border-color: transparent;\n",
              "      border-bottom-color: var(--fill-color);\n",
              "      border-left-color: var(--fill-color);\n",
              "    }\n",
              "    20% {\n",
              "      border-color: transparent;\n",
              "      border-left-color: var(--fill-color);\n",
              "      border-top-color: var(--fill-color);\n",
              "    }\n",
              "    30% {\n",
              "      border-color: transparent;\n",
              "      border-left-color: var(--fill-color);\n",
              "      border-top-color: var(--fill-color);\n",
              "      border-right-color: var(--fill-color);\n",
              "    }\n",
              "    40% {\n",
              "      border-color: transparent;\n",
              "      border-right-color: var(--fill-color);\n",
              "      border-top-color: var(--fill-color);\n",
              "    }\n",
              "    60% {\n",
              "      border-color: transparent;\n",
              "      border-right-color: var(--fill-color);\n",
              "    }\n",
              "    80% {\n",
              "      border-color: transparent;\n",
              "      border-right-color: var(--fill-color);\n",
              "      border-bottom-color: var(--fill-color);\n",
              "    }\n",
              "    90% {\n",
              "      border-color: transparent;\n",
              "      border-bottom-color: var(--fill-color);\n",
              "    }\n",
              "  }\n",
              "</style>\n",
              "\n",
              "  <script>\n",
              "    async function quickchart(key) {\n",
              "      const quickchartButtonEl =\n",
              "        document.querySelector('#' + key + ' button');\n",
              "      quickchartButtonEl.disabled = true;  // To prevent multiple clicks.\n",
              "      quickchartButtonEl.classList.add('colab-df-spinner');\n",
              "      try {\n",
              "        const charts = await google.colab.kernel.invokeFunction(\n",
              "            'suggestCharts', [key], {});\n",
              "      } catch (error) {\n",
              "        console.error('Error during call to suggestCharts:', error);\n",
              "      }\n",
              "      quickchartButtonEl.classList.remove('colab-df-spinner');\n",
              "      quickchartButtonEl.classList.add('colab-df-quickchart-complete');\n",
              "    }\n",
              "    (() => {\n",
              "      let quickchartButtonEl =\n",
              "        document.querySelector('#df-8c004a35-bd2c-4902-8242-549ac643d50a button');\n",
              "      quickchartButtonEl.style.display =\n",
              "        google.colab.kernel.accessAllowed ? 'block' : 'none';\n",
              "    })();\n",
              "  </script>\n",
              "</div>\n",
              "\n",
              "    </div>\n",
              "  </div>\n"
            ],
            "application/vnd.google.colaboratory.intrinsic+json": {
              "type": "dataframe",
              "variable_name": "subset_1",
              "repr_error": "0"
            }
          },
          "metadata": {},
          "execution_count": 19
        }
      ]
    },
    {
      "cell_type": "markdown",
      "source": [
        "Here you go, you have created a new subset, and a .csv file for that subset!"
      ],
      "metadata": {
        "id": "x6-9_4QHEKQD"
      }
    }
  ]
}